{
 "cells": [
  {
   "cell_type": "code",
   "execution_count": null,
   "id": "b3b8dd7b",
   "metadata": {},
   "outputs": [],
   "source": [
    "# This generates a spectrum of an exozodi \n",
    "# (worry about making it resolved later)"
   ]
  },
  {
   "cell_type": "code",
   "execution_count": null,
   "id": "01957bcd",
   "metadata": {},
   "outputs": [],
   "source": [
    "import matplotlib.pyplot as plt\n",
    "import numpy as np\n",
    "from astropy.modeling.physical_models import BlackBody\n",
    "from astropy import units as u\n",
    "from scipy.integrate import quad"
   ]
  },
  {
   "cell_type": "code",
   "execution_count": null,
   "id": "2630b8d1",
   "metadata": {},
   "outputs": [],
   "source": [
    "# surface brightness profile is\n",
    "# Ref.: Kennedy 2015 ApJSS 216:23, Eqn. 1\n",
    "#\n",
    "# S_disk = Sigma_m * BB(lambda, T(r))\n",
    "#\n",
    "# where \n",
    "# \n",
    "# Sigma_m = z * Sigma_m_0 * (r/r0)^(-alpha), where z is number of zodis and Sigma_m_0 normalizes the surface brightness\n",
    "# T(r) = 278.3K * Ls^(0.25) * r^-(0.5)"
   ]
  },
  {
   "cell_type": "code",
   "execution_count": null,
   "id": "a16d8959",
   "metadata": {},
   "outputs": [],
   "source": [
    "def T_temp(Ls, radius):\n",
    "    # Ls: luminosity of star (units L_sol)\n",
    "    # r: radius in disk (units AU)\n",
    "\n",
    "    T = 278.3*u.K * (Ls**0.25) * (radius**-0.5)\n",
    "\n",
    "    return T"
   ]
  },
  {
   "cell_type": "code",
   "execution_count": null,
   "id": "32bb6e31",
   "metadata": {},
   "outputs": [],
   "source": [
    "def Sigma_m(r, r0, alpha, z, Sigma_m_0):\n",
    "    # r: radius in disk (units AU)\n",
    "    # r0: reference radius (units AU)\n",
    "    # alpha: power law index\n",
    "    # z: number of zodis\n",
    "    # Sigma_m_0: normalization factor\n",
    "    #   Kennedy: 'is to be set at some r0 (in AU) such that the surface density is in units of zodis z (see Section 2.2.3).'\n",
    "\n",
    "    Sigma_m = z * Sigma_m_0 * (r/r0)**(-alpha)\n",
    "\n",
    "    return Sigma_m"
   ]
  },
  {
   "cell_type": "code",
   "execution_count": null,
   "id": "df28e1e6",
   "metadata": {},
   "outputs": [],
   "source": [
    "# surface brightness profile S(lambda, r)\n",
    "def S_disk_lambda_r(r, r0, alpha, z, Sigma_m_0, Ls, radius):\n",
    "\n",
    "    return Sigma_m(r, r0, alpha, z, Sigma_m_0) * BlackBody(temperature=T_temp(Ls, radius),  scale=1.0*u.W/(u.m**2*u.micron*u.sr))"
   ]
  },
  {
   "cell_type": "code",
   "execution_count": null,
   "id": "6cf7c434",
   "metadata": {},
   "outputs": [],
   "source": [
    "# surface brightness as function of wavelength S(lambda): S_disk_lambda_r integrated over dA = r dr dtheta\n",
    "def S_disk_lambda(r, r0, alpha, z, Sigma_m_0, T_temp, wavel_array):\n",
    "    \n",
    "    # Integrate over r * S_disk_lambda_r() dr from r[0] to r[-1]\n",
    "    S_lambda = []\n",
    "    for lam in np.atleast_1d(wavel_array):\n",
    "        S_r = np.array(\n",
    "                        [Sigma_m(r, r0, alpha, z, Sigma_m_0) * BlackBody(temperature=T_temp(Ls=1, radius=r),  \n",
    "                        scale=1.0*u.W/(u.m**2*u.micron*u.sr))(lam) for r in r]\n",
    "                        )\n",
    "        integrand = r * S_r\n",
    "        S_lam, error = 2 * np.pi * quad(integrand, r)\n",
    "        S_lambda.append(S_lam)\n",
    "\n",
    "    return np.array(S_lambda)"
   ]
  },
  {
   "cell_type": "code",
   "execution_count": 5,
   "id": "e8677fee",
   "metadata": {},
   "outputs": [
    {
     "data": {
      "image/png": "[encoded data removed]",
      "text/plain": [
       "<Figure size 640x480 with 1 Axes>"
      ]
     },
     "metadata": {},
     "output_type": "display_data"
    }
   ],
   "source": [
    "Ls = 1\n",
    "r = np.arange(0.1, 10, 0.1)\n",
    "T_temp(Ls=Ls, radius=r)\n",
    "plt.plot(r, T_temp(Ls=Ls, radius=r))\n",
    "plt.show()"
   ]
  },
  {
   "cell_type": "code",
   "execution_count": null,
   "id": "a03761cb",
   "metadata": {},
   "outputs": [],
   "source": [
    "bb_planet_lambda = BlackBody(temperature=temp_bb_planet*u.K,  scale=1.0*u.W/(u.m**2*u.micron*u.sr))"
   ]
  }
 ],
 "metadata": {
  "kernelspec": {
   "display_name": "life",
   "language": "python",
   "name": "python3"
  },
  "language_info": {
   "codemirror_mode": {
    "name": "ipython",
    "version": 3
   },
   "file_extension": ".py",
   "mimetype": "text/x-python",
   "name": "python",
   "nbconvert_exporter": "python",
   "pygments_lexer": "ipython3",
   "version": "3.10.18"
  }
 },
 "nbformat": 4,
 "nbformat_minor": 5
}
