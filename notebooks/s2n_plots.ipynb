{
 "cells": [
  {
   "cell_type": "code",
   "execution_count": null,
   "id": "eba3bac7",
   "metadata": {},
   "outputs": [],
   "source": [
    "# Makes plots of S/N vs wavelength and dark current (see s_to_n_logic_life_detectors.py)"
   ]
  },
  {
   "cell_type": "code",
   "execution_count": 7,
   "id": "0d9dd98d",
   "metadata": {},
   "outputs": [],
   "source": [
    "import matplotlib.pyplot as plt\n",
    "import numpy as np\n",
    "import astropy.units as u"
   ]
  },
  {
   "cell_type": "code",
   "execution_count": 32,
   "id": "43f55ece",
   "metadata": {},
   "outputs": [],
   "source": [
    "# constants\n",
    "# use units of photoelectrons\n",
    "\n",
    "eta_qm = 0.8 # quantum efficiency\n",
    "n_int = 1 # number of integrations\n",
    "t_int = 10 * u.second # time for 1 integration (sec)\n",
    "del_Np_prime_del_t = 100 * u.electron / u.second # Planet signal rate (photo-electrons / sec)       \n",
    "del_Nstar_prime_del_t = 1e6 * u.electron / u.second # Star signal rate (photo-electrons / sec)\n",
    "null = 0.1 # null transmission of the star\n",
    "R = 6 * u.electron  # read noise (photo-electrons rms)\n",
    "n_pix = 10 * u.pix # number of pixels\n",
    "D = 10 * u.electron / (u.pix * u.second) # Dark current rate (photo-electrons / (pix * sec))"
   ]
  },
  {
   "cell_type": "code",
   "execution_count": 45,
   "id": "2dcad8fd",
   "metadata": {},
   "outputs": [],
   "source": [
    "def s2n(n_int, t_int, n_pix, del_Np_prime_del_t, del_Nstar_prime_del_t, null, R, D, eta_qm):\n",
    "\n",
    "    term_1 = np.sqrt(n_int)\n",
    "\n",
    "    #print(term_1.value)\n",
    "\n",
    "    term_2 = eta_qm * t_int * del_Np_prime_del_t\n",
    "\n",
    "    print('term_2:')\n",
    "    print(term_2.unit)\n",
    "\n",
    "    term_3 = eta_qm * t_int * (del_Np_prime_del_t + null * del_Nstar_prime_del_t)\n",
    "\n",
    "    print('--------------------------------')\n",
    "    print(del_Np_prime_del_t.unit)\n",
    "    print((null*del_Nstar_prime_del_t).unit)\n",
    "    print('term_3:')\n",
    "    print(term_3.unit)\n",
    "\n",
    "    term_4 = n_pix * (( R**2/(u.electron * u.pix) ) + t_int * D)\n",
    "\n",
    "    print('term_4:')\n",
    "    print(term_4.unit)\n",
    "\n",
    "    return ( term_1 * term_2 / np.sqrt(term_3 + term_4) ) / u.electron**0.5"
   ]
  },
  {
   "cell_type": "code",
   "execution_count": 46,
   "id": "8f939eef",
   "metadata": {},
   "outputs": [
    {
     "name": "stdout",
     "output_type": "stream",
     "text": [
      "term_2:\n",
      "electron\n",
      "--------------------------------\n",
      "electron / s\n",
      "electron / s\n",
      "term_3:\n",
      "electron\n",
      "term_4:\n",
      "electron\n"
     ]
    }
   ],
   "source": [
    "test = s2n(n_int=n_int, t_int=t_int, n_pix=n_pix, del_Np_prime_del_t=del_Np_prime_del_t, del_Nstar_prime_del_t=del_Nstar_prime_del_t, null=null, R=R, D=D, eta_qm=eta_qm)"
   ]
  },
  {
   "cell_type": "code",
   "execution_count": 47,
   "id": "a8c3f994",
   "metadata": {},
   "outputs": [
    {
     "data": {
      "text/latex": [
       "$0.89322215 \\; \\mathrm{}$"
      ],
      "text/plain": [
       "<Quantity 0.89322215>"
      ]
     },
     "execution_count": 47,
     "metadata": {},
     "output_type": "execute_result"
    }
   ],
   "source": [
    "test"
   ]
  }
 ],
 "metadata": {
  "kernelspec": {
   "display_name": "life",
   "language": "python",
   "name": "python3"
  },
  "language_info": {
   "codemirror_mode": {
    "name": "ipython",
    "version": 3
   },
   "file_extension": ".py",
   "mimetype": "text/x-python",
   "name": "python",
   "nbconvert_exporter": "python",
   "pygments_lexer": "ipython3",
   "version": "3.10.18"
  }
 },
 "nbformat": 4,
 "nbformat_minor": 5
}
