{
 "cells": [
  {
   "cell_type": "code",
   "execution_count": null,
   "id": "eba3bac7",
   "metadata": {},
   "outputs": [],
   "source": [
    "# Makes plots of S/N vs wavelength and dark current (see s_to_n_logic_life_detectors.py)"
   ]
  },
  {
   "cell_type": "code",
   "execution_count": 1,
   "id": "0d9dd98d",
   "metadata": {},
   "outputs": [],
   "source": [
    "import matplotlib.pyplot as plt\n",
    "import numpy as np\n",
    "import astropy.units as u"
   ]
  },
  {
   "cell_type": "code",
   "execution_count": 7,
   "id": "43f55ece",
   "metadata": {},
   "outputs": [],
   "source": [
    "# constants\n",
    "# use units of photoelectrons\n",
    "\n",
    "eta_t = 0.05\n",
    "eta_qm = 0.8 # quantum efficiency\n",
    "n_int = 5e4 # number of integrations\n",
    "t_int = 60 * u.second # time for 1 integration (sec)\n",
    "del_Np_prime_del_t = 7.87316577 * u.electron / u.second # Planet signal rate (photo-electrons / sec)      \n",
    "del_Nez_prime_del_t = 4829.48456111 * u.electron / u.second # exozodi\n",
    "del_Nz_prime_del_t = 22.30715801 * u.electron / u.second # zodiacal\n",
    "del_Ns_prime_del_t = 20302601.04228549 * u.electron / u.second # Star signal rate (photo-electrons / sec)\n",
    "null = 0.05 # null transmission of the star\n",
    "R = 10. * u.electron / u.pix  # read noise (photo-electrons rms)\n",
    "n_pix = 70. * u.pix # number of pixels under each wavelength element footprint\n",
    "D = 10. * u.electron / (u.pix * u.second) # Dark current rate (photo-electrons / (pix * sec))"
   ]
  },
  {
   "cell_type": "code",
   "execution_count": null,
   "id": "2dcad8fd",
   "metadata": {},
   "outputs": [],
   "source": [
    "def s2n():\n",
    "    # term in front\n",
    "    term_1 = np.sqrt(n_int)\n",
    "\n",
    "    # numerator\n",
    "    term_2 = eta_t * eta_qm * t_int * del_Np_prime_del_t\n",
    "\n",
    "    # first term under square root in the denominator\n",
    "    term_3 = eta_t * eta_qm * t_int * (del_Np_prime_del_t + del_Nez_prime_del_t + del_Nz_prime_del_t + null * del_Ns_prime_del_t)\n",
    "\n",
    "    # second term under square root in the denominator\n",
    "    term_4 = n_pix * (( R**2/(u.electron / u.pix) ) + t_int * D)\n",
    "\n",
    "    return ( term_1 * term_2 / np.sqrt(term_3 + term_4) ) / u.electron**0.5    "
   ]
  },
  {
   "cell_type": "code",
   "execution_count": 8,
   "id": "8f939eef",
   "metadata": {},
   "outputs": [
    {
     "name": "stdout",
     "output_type": "stream",
     "text": [
      "2.6738590773090287\n"
     ]
    }
   ],
   "source": [
    "test = s2n()\n",
    "print(test)"
   ]
  },
  {
   "cell_type": "code",
   "execution_count": 8,
   "id": "00fecbe0",
   "metadata": {},
   "outputs": [
    {
     "name": "stdout",
     "output_type": "stream",
     "text": [
      "term_2:\n",
      "electron\n",
      "--------------------------------\n",
      "electron / s\n",
      "electron / s\n",
      "term_3:\n",
      "electron\n",
      "term_4:\n",
      "electron\n",
      "S/N for different dark currents: [0.89377386 0.89372366 0.89322215]\n",
      "term_2:\n",
      "electron\n",
      "--------------------------------\n",
      "electron / s\n",
      "electron / s\n",
      "term_3:\n",
      "electron\n",
      "term_4:\n",
      "electron\n",
      "S/N for different integration times: [0.28189292 0.89322215 2.82518708]\n",
      "term_2:\n",
      "electron\n",
      "--------------------------------\n",
      "electron / s\n",
      "electron / s\n",
      "term_3:\n",
      "electron\n",
      "term_4:\n",
      "electron\n",
      "S/N vs wavelength: [0.44672247 0.89322215 1.3394993  1.78555416 2.23138697]\n"
     ]
    }
   ],
   "source": [
    "# Example usage of vectorized s2n function\n",
    "\n",
    "# Example 1: Vectorize over dark current values\n",
    "D_array = np.array([0.1, 1.0, 10.0]) * u.electron / (u.pix * u.second)\n",
    "s2n_dark_current = s2n(n_int, t_int, n_pix, del_Np_prime_del_t, del_Nstar_prime_del_t, null, R, D_array, eta_qm)\n",
    "print(\"S/N for different dark currents:\", s2n_dark_current)\n",
    "\n",
    "# Example 2: Vectorize over integration times\n",
    "t_int_array = np.array([1, 10, 100]) * u.second\n",
    "s2n_integration = s2n(n_int, t_int_array, n_pix, del_Np_prime_del_t, del_Nstar_prime_del_t, null, R, D, eta_qm)\n",
    "print(\"S/N for different integration times:\", s2n_integration)\n",
    "\n",
    "# Example 3: Vectorize over wavelength (if you have wavelength-dependent parameters)\n",
    "wavelengths = np.array([4, 6, 8, 10, 12]) * u.um\n",
    "# Assuming del_Np_prime_del_t varies with wavelength\n",
    "del_Np_array = np.array([50, 100, 150, 200, 250]) * u.electron / u.second\n",
    "s2n_wavelength = s2n(n_int, t_int, n_pix, del_Np_array, del_Nstar_prime_del_t, null, R, D, eta_qm)\n",
    "print(\"S/N vs wavelength:\", s2n_wavelength)\n"
   ]
  },
  {
   "cell_type": "code",
   "execution_count": 7,
   "id": "a8c3f994",
   "metadata": {},
   "outputs": [
    {
     "data": {
      "text/latex": [
       "$0.89322215 \\; \\mathrm{}$"
      ],
      "text/plain": [
       "<Quantity 0.89322215>"
      ]
     },
     "execution_count": 7,
     "metadata": {},
     "output_type": "execute_result"
    }
   ],
   "source": [
    "test"
   ]
  }
 ],
 "metadata": {
  "kernelspec": {
   "display_name": "life",
   "language": "python",
   "name": "python3"
  },
  "language_info": {
   "codemirror_mode": {
    "name": "ipython",
    "version": 3
   },
   "file_extension": ".py",
   "mimetype": "text/x-python",
   "name": "python",
   "nbconvert_exporter": "python",
   "pygments_lexer": "ipython3",
   "version": "3.10.18"
  }
 },
 "nbformat": 4,
 "nbformat_minor": 5
}
